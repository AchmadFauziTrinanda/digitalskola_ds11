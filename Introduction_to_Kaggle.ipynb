{
  "cells": [
    {
      "cell_type": "markdown",
      "metadata": {
        "id": "view-in-github",
        "colab_type": "text"
      },
      "source": [
        "<a href=\"https://colab.research.google.com/github/AchmadFauziTrinanda/digitalskola_ds11/blob/master/Introduction_to_Kaggle.ipynb\" target=\"_parent\"><img src=\"https://colab.research.google.com/assets/colab-badge.svg\" alt=\"Open In Colab\"/></a>"
      ]
    },
    {
      "cell_type": "code",
      "execution_count": null,
      "id": "e08db408",
      "metadata": {
        "_cell_guid": "b1076dfc-b9ad-4769-8c92-a6c4dae69d19",
        "_uuid": "8f2839f25d086af736a60e9eeb907d3b93b6e0e5",
        "execution": {
          "iopub.execute_input": "2022-02-14T12:08:53.627130Z",
          "iopub.status.busy": "2022-02-14T12:08:53.626443Z",
          "iopub.status.idle": "2022-02-14T12:08:53.639371Z",
          "shell.execute_reply": "2022-02-14T12:08:53.638526Z",
          "shell.execute_reply.started": "2022-02-12T09:56:24.587479Z"
        },
        "papermill": {
          "duration": 0.040653,
          "end_time": "2022-02-14T12:08:53.639547",
          "exception": false,
          "start_time": "2022-02-14T12:08:53.598894",
          "status": "completed"
        },
        "tags": [],
        "id": "e08db408",
        "outputId": "0f567ad2-eed9-4dc6-e8ef-bea791137b75"
      },
      "outputs": [
        {
          "name": "stdout",
          "output_type": "stream",
          "text": [
            "/kaggle/input/winter-olympic-medals-1924-2018/Winter_Olympic_Medals.csv\n"
          ]
        }
      ],
      "source": [
        "# This Python 3 environment comes with many helpful analytics libraries installed\n",
        "# It is defined by the kaggle/python Docker image: https://github.com/kaggle/docker-python\n",
        "# For example, here's several helpful packages to load\n",
        "\n",
        "import numpy as np # linear algebra\n",
        "import pandas as pd # data processing, CSV file I/O (e.g. pd.read_csv)\n",
        "\n",
        "# Input data files are available in the read-only \"../input/\" directory\n",
        "# For example, running this (by clicking run or pressing Shift+Enter) will list all files under the input directory\n",
        "\n",
        "import os\n",
        "for dirname, _, filenames in os.walk('/kaggle/input'):\n",
        "    for filename in filenames:\n",
        "        print(os.path.join(dirname, filename))\n",
        "\n",
        "# You can write up to 20GB to the current directory (/kaggle/working/) that gets preserved as output when you create a version using \"Save & Run All\" \n",
        "# You can also write temporary files to /kaggle/temp/, but they won't be saved outside of the current session"
      ]
    },
    {
      "cell_type": "markdown",
      "id": "af0384c3",
      "metadata": {
        "papermill": {
          "duration": 0.014549,
          "end_time": "2022-02-14T12:08:53.671490",
          "exception": false,
          "start_time": "2022-02-14T12:08:53.656941",
          "status": "completed"
        },
        "tags": [],
        "id": "af0384c3"
      },
      "source": [
        "# Introduction to Kaggle\n",
        "\n",
        "by: Achmad Fauzi Trinanda\n",
        "____"
      ]
    },
    {
      "cell_type": "markdown",
      "id": "93ee30ab",
      "metadata": {
        "papermill": {
          "duration": 0.014659,
          "end_time": "2022-02-14T12:08:53.700952",
          "exception": false,
          "start_time": "2022-02-14T12:08:53.686293",
          "status": "completed"
        },
        "tags": [],
        "id": "93ee30ab"
      },
      "source": [
        "# Import Library"
      ]
    },
    {
      "cell_type": "code",
      "execution_count": null,
      "id": "ec742147",
      "metadata": {
        "execution": {
          "iopub.execute_input": "2022-02-14T12:08:53.737217Z",
          "iopub.status.busy": "2022-02-14T12:08:53.736525Z",
          "iopub.status.idle": "2022-02-14T12:08:54.854117Z",
          "shell.execute_reply": "2022-02-14T12:08:54.853381Z",
          "shell.execute_reply.started": "2022-02-12T13:35:17.447Z"
        },
        "papermill": {
          "duration": 1.138003,
          "end_time": "2022-02-14T12:08:54.854283",
          "exception": false,
          "start_time": "2022-02-14T12:08:53.716280",
          "status": "completed"
        },
        "tags": [],
        "id": "ec742147"
      },
      "outputs": [],
      "source": [
        "# import library\n",
        "import pandas as pd\n",
        "import numpy as np\n",
        "\n",
        "# import visualization library\n",
        "import matplotlib.pyplot as plt\n",
        "import seaborn as sns"
      ]
    },
    {
      "cell_type": "markdown",
      "id": "e7dff5d1",
      "metadata": {
        "papermill": {
          "duration": 0.014709,
          "end_time": "2022-02-14T12:08:54.884013",
          "exception": false,
          "start_time": "2022-02-14T12:08:54.869304",
          "status": "completed"
        },
        "tags": [],
        "id": "e7dff5d1"
      },
      "source": [
        "# Load Data"
      ]
    },
    {
      "cell_type": "code",
      "execution_count": null,
      "id": "8a5fbeeb",
      "metadata": {
        "execution": {
          "iopub.execute_input": "2022-02-14T12:08:54.919413Z",
          "iopub.status.busy": "2022-02-14T12:08:54.918377Z",
          "iopub.status.idle": "2022-02-14T12:08:54.952747Z",
          "shell.execute_reply": "2022-02-14T12:08:54.952028Z",
          "shell.execute_reply.started": "2022-02-12T13:35:22.985874Z"
        },
        "papermill": {
          "duration": 0.0538,
          "end_time": "2022-02-14T12:08:54.952901",
          "exception": false,
          "start_time": "2022-02-14T12:08:54.899101",
          "status": "completed"
        },
        "tags": [],
        "id": "8a5fbeeb",
        "outputId": "a085396a-1ca0-450a-a859-95be7b528557"
      },
      "outputs": [
        {
          "data": {
            "text/html": [
              "<div>\n",
              "<style scoped>\n",
              "    .dataframe tbody tr th:only-of-type {\n",
              "        vertical-align: middle;\n",
              "    }\n",
              "\n",
              "    .dataframe tbody tr th {\n",
              "        vertical-align: top;\n",
              "    }\n",
              "\n",
              "    .dataframe thead th {\n",
              "        text-align: right;\n",
              "    }\n",
              "</style>\n",
              "<table border=\"1\" class=\"dataframe\">\n",
              "  <thead>\n",
              "    <tr style=\"text-align: right;\">\n",
              "      <th></th>\n",
              "      <th>Year</th>\n",
              "      <th>Host_country</th>\n",
              "      <th>Host_city</th>\n",
              "      <th>Country_Name</th>\n",
              "      <th>Country_Code</th>\n",
              "      <th>Gold</th>\n",
              "      <th>Silver</th>\n",
              "      <th>Bronze</th>\n",
              "    </tr>\n",
              "  </thead>\n",
              "  <tbody>\n",
              "    <tr>\n",
              "      <th>0</th>\n",
              "      <td>1924</td>\n",
              "      <td>France</td>\n",
              "      <td>Chamonix</td>\n",
              "      <td>United States</td>\n",
              "      <td>USA</td>\n",
              "      <td>1</td>\n",
              "      <td>2</td>\n",
              "      <td>1</td>\n",
              "    </tr>\n",
              "    <tr>\n",
              "      <th>1</th>\n",
              "      <td>1924</td>\n",
              "      <td>France</td>\n",
              "      <td>Chamonix</td>\n",
              "      <td>Great Britain</td>\n",
              "      <td>GBR</td>\n",
              "      <td>1</td>\n",
              "      <td>1</td>\n",
              "      <td>2</td>\n",
              "    </tr>\n",
              "    <tr>\n",
              "      <th>2</th>\n",
              "      <td>1924</td>\n",
              "      <td>France</td>\n",
              "      <td>Chamonix</td>\n",
              "      <td>Austria</td>\n",
              "      <td>AUT</td>\n",
              "      <td>2</td>\n",
              "      <td>1</td>\n",
              "      <td>0</td>\n",
              "    </tr>\n",
              "    <tr>\n",
              "      <th>3</th>\n",
              "      <td>1924</td>\n",
              "      <td>France</td>\n",
              "      <td>Chamonix</td>\n",
              "      <td>Norway</td>\n",
              "      <td>NOR</td>\n",
              "      <td>4</td>\n",
              "      <td>7</td>\n",
              "      <td>6</td>\n",
              "    </tr>\n",
              "    <tr>\n",
              "      <th>4</th>\n",
              "      <td>1924</td>\n",
              "      <td>France</td>\n",
              "      <td>Chamonix</td>\n",
              "      <td>Finland</td>\n",
              "      <td>FIN</td>\n",
              "      <td>4</td>\n",
              "      <td>4</td>\n",
              "      <td>3</td>\n",
              "    </tr>\n",
              "  </tbody>\n",
              "</table>\n",
              "</div>"
            ],
            "text/plain": [
              "   Year Host_country Host_city   Country_Name Country_Code  Gold  Silver  \\\n",
              "0  1924       France  Chamonix  United States          USA     1       2   \n",
              "1  1924       France  Chamonix  Great Britain          GBR     1       1   \n",
              "2  1924       France  Chamonix        Austria          AUT     2       1   \n",
              "3  1924       France  Chamonix         Norway          NOR     4       7   \n",
              "4  1924       France  Chamonix        Finland          FIN     4       4   \n",
              "\n",
              "   Bronze  \n",
              "0       1  \n",
              "1       2  \n",
              "2       0  \n",
              "3       6  \n",
              "4       3  "
            ]
          },
          "execution_count": 3,
          "metadata": {},
          "output_type": "execute_result"
        }
      ],
      "source": [
        "# reading dataset\n",
        "data = pd.read_csv(\"../input/winter-olympic-medals-1924-2018/Winter_Olympic_Medals.csv\")\n",
        "data.head()"
      ]
    },
    {
      "cell_type": "markdown",
      "id": "9d467ce0",
      "metadata": {
        "papermill": {
          "duration": 0.015255,
          "end_time": "2022-02-14T12:08:54.983938",
          "exception": false,
          "start_time": "2022-02-14T12:08:54.968683",
          "status": "completed"
        },
        "tags": [],
        "id": "9d467ce0"
      },
      "source": [
        "This data consists 8 column :\n",
        "- Year : when the event was held\n",
        "- Host country : On which Country the event was held\n",
        "- Host_city : The city where the event was held\n",
        "- Country_Name : Parcipating country\n",
        "- Country_Code : Code for the participating country\n",
        "- Gold : the number of gold medals earned\n",
        "- Silver : the number of silver medals earned\n",
        "- Bronze : the number of bronze medals earned"
      ]
    },
    {
      "cell_type": "markdown",
      "id": "39d9cccb",
      "metadata": {
        "papermill": {
          "duration": 0.015289,
          "end_time": "2022-02-14T12:08:55.014673",
          "exception": false,
          "start_time": "2022-02-14T12:08:54.999384",
          "status": "completed"
        },
        "tags": [],
        "id": "39d9cccb"
      },
      "source": [
        "# Data Type"
      ]
    },
    {
      "cell_type": "code",
      "execution_count": null,
      "id": "703e9d49",
      "metadata": {
        "execution": {
          "iopub.execute_input": "2022-02-14T12:08:55.051630Z",
          "iopub.status.busy": "2022-02-14T12:08:55.048900Z",
          "iopub.status.idle": "2022-02-14T12:08:55.075272Z",
          "shell.execute_reply": "2022-02-14T12:08:55.076045Z",
          "shell.execute_reply.started": "2022-02-12T12:22:22.950165Z"
        },
        "papermill": {
          "duration": 0.04622,
          "end_time": "2022-02-14T12:08:55.076321",
          "exception": false,
          "start_time": "2022-02-14T12:08:55.030101",
          "status": "completed"
        },
        "tags": [],
        "id": "703e9d49",
        "outputId": "ec8d1b7e-9645-427f-bdbc-70ff0bfda0d2"
      },
      "outputs": [
        {
          "name": "stdout",
          "output_type": "stream",
          "text": [
            "<class 'pandas.core.frame.DataFrame'>\n",
            "RangeIndex: 409 entries, 0 to 408\n",
            "Data columns (total 8 columns):\n",
            " #   Column        Non-Null Count  Dtype \n",
            "---  ------        --------------  ----- \n",
            " 0   Year          409 non-null    int64 \n",
            " 1   Host_country  409 non-null    object\n",
            " 2   Host_city     409 non-null    object\n",
            " 3   Country_Name  409 non-null    object\n",
            " 4   Country_Code  409 non-null    object\n",
            " 5   Gold          409 non-null    int64 \n",
            " 6   Silver        409 non-null    int64 \n",
            " 7   Bronze        409 non-null    int64 \n",
            "dtypes: int64(4), object(4)\n",
            "memory usage: 25.7+ KB\n"
          ]
        }
      ],
      "source": [
        "# See amount of data and data type\n",
        "data.info()"
      ]
    },
    {
      "cell_type": "code",
      "execution_count": null,
      "id": "0616b84b",
      "metadata": {
        "execution": {
          "iopub.execute_input": "2022-02-14T12:08:55.118004Z",
          "iopub.status.busy": "2022-02-14T12:08:55.116860Z",
          "iopub.status.idle": "2022-02-14T12:08:55.121020Z",
          "shell.execute_reply": "2022-02-14T12:08:55.121470Z",
          "shell.execute_reply.started": "2022-02-12T12:22:42.954902Z"
        },
        "papermill": {
          "duration": 0.028382,
          "end_time": "2022-02-14T12:08:55.121689",
          "exception": false,
          "start_time": "2022-02-14T12:08:55.093307",
          "status": "completed"
        },
        "tags": [],
        "id": "0616b84b",
        "outputId": "8213a0e0-f38d-42d5-d283-566203efeee5"
      },
      "outputs": [
        {
          "data": {
            "text/plain": [
              "Year             int64\n",
              "Host_country    object\n",
              "Host_city       object\n",
              "Country_Name    object\n",
              "Country_Code    object\n",
              "Gold             int64\n",
              "Silver           int64\n",
              "Bronze           int64\n",
              "dtype: object"
            ]
          },
          "execution_count": 5,
          "metadata": {},
          "output_type": "execute_result"
        }
      ],
      "source": [
        "# to know only data type\n",
        "data.dtypes"
      ]
    },
    {
      "cell_type": "markdown",
      "id": "7aa67c5f",
      "metadata": {
        "papermill": {
          "duration": 0.016632,
          "end_time": "2022-02-14T12:08:55.154880",
          "exception": false,
          "start_time": "2022-02-14T12:08:55.138248",
          "status": "completed"
        },
        "tags": [],
        "id": "7aa67c5f"
      },
      "source": [
        "The data type of Host_country, Host_city, Country_Name, and Country_Code is an object because it contains string, not only numerical values and the rest column (Gold, Silver and Bronze) has integer64 datatype because it only contain numerical value that has no decimal places."
      ]
    },
    {
      "cell_type": "markdown",
      "id": "d434ffaa",
      "metadata": {
        "papermill": {
          "duration": 0.016496,
          "end_time": "2022-02-14T12:08:55.188488",
          "exception": false,
          "start_time": "2022-02-14T12:08:55.171992",
          "status": "completed"
        },
        "tags": [],
        "id": "d434ffaa"
      },
      "source": [
        "# Data Description"
      ]
    },
    {
      "cell_type": "code",
      "execution_count": null,
      "id": "3b081fec",
      "metadata": {
        "execution": {
          "iopub.execute_input": "2022-02-14T12:08:55.225524Z",
          "iopub.status.busy": "2022-02-14T12:08:55.224905Z",
          "iopub.status.idle": "2022-02-14T12:08:55.249888Z",
          "shell.execute_reply": "2022-02-14T12:08:55.250484Z",
          "shell.execute_reply.started": "2022-02-12T12:31:55.569444Z"
        },
        "papermill": {
          "duration": 0.045323,
          "end_time": "2022-02-14T12:08:55.250700",
          "exception": false,
          "start_time": "2022-02-14T12:08:55.205377",
          "status": "completed"
        },
        "tags": [],
        "id": "3b081fec",
        "outputId": "38f4036f-dc5a-4809-f87a-df582823ddde"
      },
      "outputs": [
        {
          "data": {
            "text/html": [
              "<div>\n",
              "<style scoped>\n",
              "    .dataframe tbody tr th:only-of-type {\n",
              "        vertical-align: middle;\n",
              "    }\n",
              "\n",
              "    .dataframe tbody tr th {\n",
              "        vertical-align: top;\n",
              "    }\n",
              "\n",
              "    .dataframe thead th {\n",
              "        text-align: right;\n",
              "    }\n",
              "</style>\n",
              "<table border=\"1\" class=\"dataframe\">\n",
              "  <thead>\n",
              "    <tr style=\"text-align: right;\">\n",
              "      <th></th>\n",
              "      <th>Year</th>\n",
              "      <th>Gold</th>\n",
              "      <th>Silver</th>\n",
              "      <th>Bronze</th>\n",
              "    </tr>\n",
              "  </thead>\n",
              "  <tbody>\n",
              "    <tr>\n",
              "      <th>count</th>\n",
              "      <td>409.000000</td>\n",
              "      <td>409.000000</td>\n",
              "      <td>409.000000</td>\n",
              "      <td>409.000000</td>\n",
              "    </tr>\n",
              "    <tr>\n",
              "      <th>mean</th>\n",
              "      <td>1982.611247</td>\n",
              "      <td>2.596577</td>\n",
              "      <td>2.589242</td>\n",
              "      <td>2.567237</td>\n",
              "    </tr>\n",
              "    <tr>\n",
              "      <th>std</th>\n",
              "      <td>26.721658</td>\n",
              "      <td>3.085559</td>\n",
              "      <td>2.821049</td>\n",
              "      <td>2.491358</td>\n",
              "    </tr>\n",
              "    <tr>\n",
              "      <th>min</th>\n",
              "      <td>1924.000000</td>\n",
              "      <td>0.000000</td>\n",
              "      <td>0.000000</td>\n",
              "      <td>0.000000</td>\n",
              "    </tr>\n",
              "    <tr>\n",
              "      <th>25%</th>\n",
              "      <td>1964.000000</td>\n",
              "      <td>0.000000</td>\n",
              "      <td>1.000000</td>\n",
              "      <td>1.000000</td>\n",
              "    </tr>\n",
              "    <tr>\n",
              "      <th>50%</th>\n",
              "      <td>1988.000000</td>\n",
              "      <td>1.000000</td>\n",
              "      <td>2.000000</td>\n",
              "      <td>2.000000</td>\n",
              "    </tr>\n",
              "    <tr>\n",
              "      <th>75%</th>\n",
              "      <td>2006.000000</td>\n",
              "      <td>4.000000</td>\n",
              "      <td>4.000000</td>\n",
              "      <td>4.000000</td>\n",
              "    </tr>\n",
              "    <tr>\n",
              "      <th>max</th>\n",
              "      <td>2018.000000</td>\n",
              "      <td>14.000000</td>\n",
              "      <td>16.000000</td>\n",
              "      <td>13.000000</td>\n",
              "    </tr>\n",
              "  </tbody>\n",
              "</table>\n",
              "</div>"
            ],
            "text/plain": [
              "              Year        Gold      Silver      Bronze\n",
              "count   409.000000  409.000000  409.000000  409.000000\n",
              "mean   1982.611247    2.596577    2.589242    2.567237\n",
              "std      26.721658    3.085559    2.821049    2.491358\n",
              "min    1924.000000    0.000000    0.000000    0.000000\n",
              "25%    1964.000000    0.000000    1.000000    1.000000\n",
              "50%    1988.000000    1.000000    2.000000    2.000000\n",
              "75%    2006.000000    4.000000    4.000000    4.000000\n",
              "max    2018.000000   14.000000   16.000000   13.000000"
            ]
          },
          "execution_count": 6,
          "metadata": {},
          "output_type": "execute_result"
        }
      ],
      "source": [
        "data.describe()"
      ]
    },
    {
      "cell_type": "markdown",
      "id": "20282c28",
      "metadata": {
        "papermill": {
          "duration": 0.019193,
          "end_time": "2022-02-14T12:08:55.286988",
          "exception": false,
          "start_time": "2022-02-14T12:08:55.267795",
          "status": "completed"
        },
        "tags": [],
        "id": "20282c28"
      },
      "source": [
        "From describe() method we got some statistical summaries of the data :\n",
        "- count : number of non-null rows of each column\n",
        "- mean : average of each column\n",
        "- std : standard deviation of each column\n",
        "- min : lowest value of each column\n",
        "- 25% : lower percentil (first quarter) of each column\n",
        "- 50% : median of each column\n",
        "- 75% : upper percentil (third quarter) of each column\n",
        "- max : highest value of each column"
      ]
    },
    {
      "cell_type": "code",
      "execution_count": null,
      "id": "4b3e5c0b",
      "metadata": {
        "execution": {
          "iopub.execute_input": "2022-02-14T12:08:55.325909Z",
          "iopub.status.busy": "2022-02-14T12:08:55.325207Z",
          "iopub.status.idle": "2022-02-14T12:08:55.579923Z",
          "shell.execute_reply": "2022-02-14T12:08:55.580434Z",
          "shell.execute_reply.started": "2022-02-12T13:58:10.531251Z"
        },
        "papermill": {
          "duration": 0.275686,
          "end_time": "2022-02-14T12:08:55.580643",
          "exception": false,
          "start_time": "2022-02-14T12:08:55.304957",
          "status": "completed"
        },
        "tags": [],
        "id": "4b3e5c0b",
        "outputId": "6aaf25bf-9afc-4a66-be08-2651d78d0904"
      },
      "outputs": [
        {
          "data": {
            "text/plain": [
              "<AxesSubplot:>"
            ]
          },
          "execution_count": 7,
          "metadata": {},
          "output_type": "execute_result"
        },
        {
          "data": {
            "image/png": "[encoded data removed]",
            "text/plain": [
              "<Figure size 432x288 with 1 Axes>"
            ]
          },
          "metadata": {
            "needs_background": "light"
          },
          "output_type": "display_data"
        }
      ],
      "source": [
        "column_list = ['Gold', 'Silver', 'Bronze']\n",
        "my_pal = {'Gold':'gold',\n",
        "         'Silver':'silver',\n",
        "         'Bronze':'brown'}\n",
        "sns.boxplot(data=data[column_list], palette=my_pal)"
      ]
    },
    {
      "cell_type": "code",
      "execution_count": null,
      "id": "a239081d",
      "metadata": {
        "execution": {
          "iopub.execute_input": "2022-02-14T12:08:55.630565Z",
          "iopub.status.busy": "2022-02-14T12:08:55.629885Z",
          "iopub.status.idle": "2022-02-14T12:08:55.646042Z",
          "shell.execute_reply": "2022-02-14T12:08:55.645385Z",
          "shell.execute_reply.started": "2022-02-12T13:41:36.810831Z"
        },
        "papermill": {
          "duration": 0.047044,
          "end_time": "2022-02-14T12:08:55.646206",
          "exception": false,
          "start_time": "2022-02-14T12:08:55.599162",
          "status": "completed"
        },
        "tags": [],
        "id": "a239081d",
        "outputId": "fcd0ef3f-bbf0-47b5-ed6e-16d48588bb3d"
      },
      "outputs": [
        {
          "data": {
            "text/html": [
              "<div>\n",
              "<style scoped>\n",
              "    .dataframe tbody tr th:only-of-type {\n",
              "        vertical-align: middle;\n",
              "    }\n",
              "\n",
              "    .dataframe tbody tr th {\n",
              "        vertical-align: top;\n",
              "    }\n",
              "\n",
              "    .dataframe thead th {\n",
              "        text-align: right;\n",
              "    }\n",
              "</style>\n",
              "<table border=\"1\" class=\"dataframe\">\n",
              "  <thead>\n",
              "    <tr style=\"text-align: right;\">\n",
              "      <th></th>\n",
              "      <th>gold_medal</th>\n",
              "      <th>silver_medal</th>\n",
              "      <th>bronze_medal</th>\n",
              "    </tr>\n",
              "    <tr>\n",
              "      <th>Country_Name</th>\n",
              "      <th></th>\n",
              "      <th></th>\n",
              "      <th></th>\n",
              "    </tr>\n",
              "  </thead>\n",
              "  <tbody>\n",
              "    <tr>\n",
              "      <th>Norway</th>\n",
              "      <td>132</td>\n",
              "      <td>125</td>\n",
              "      <td>111</td>\n",
              "    </tr>\n",
              "    <tr>\n",
              "      <th>United States</th>\n",
              "      <td>105</td>\n",
              "      <td>112</td>\n",
              "      <td>88</td>\n",
              "    </tr>\n",
              "    <tr>\n",
              "      <th>Germany</th>\n",
              "      <td>92</td>\n",
              "      <td>88</td>\n",
              "      <td>60</td>\n",
              "    </tr>\n",
              "    <tr>\n",
              "      <th>Soviet Union</th>\n",
              "      <td>78</td>\n",
              "      <td>57</td>\n",
              "      <td>59</td>\n",
              "    </tr>\n",
              "    <tr>\n",
              "      <th>Canada</th>\n",
              "      <td>73</td>\n",
              "      <td>64</td>\n",
              "      <td>62</td>\n",
              "    </tr>\n",
              "  </tbody>\n",
              "</table>\n",
              "</div>"
            ],
            "text/plain": [
              "               gold_medal  silver_medal  bronze_medal\n",
              "Country_Name                                         \n",
              "Norway                132           125           111\n",
              "United States         105           112            88\n",
              "Germany                92            88            60\n",
              "Soviet Union           78            57            59\n",
              "Canada                 73            64            62"
            ]
          },
          "execution_count": 8,
          "metadata": {},
          "output_type": "execute_result"
        }
      ],
      "source": [
        "all_time = data.groupby('Country_Name').agg(gold_medal=('Gold','sum'),\n",
        "                                 silver_medal=('Silver','sum'),\n",
        "                                 bronze_medal=('Bronze','sum'))\n",
        "all_time.sort_values(by=['gold_medal'],ascending=False).head()"
      ]
    },
    {
      "cell_type": "markdown",
      "id": "8149c319",
      "metadata": {
        "papermill": {
          "duration": 0.018886,
          "end_time": "2022-02-14T12:08:55.684251",
          "exception": false,
          "start_time": "2022-02-14T12:08:55.665365",
          "status": "completed"
        },
        "tags": [],
        "id": "8149c319"
      },
      "source": [
        "From the data, it is found Norway is the all time high gold medal collector in the winter olympic games history with 132 gold, 125 silver and 111 bronze medals"
      ]
    }
  ],
  "metadata": {
    "kernelspec": {
      "display_name": "Python 3",
      "language": "python",
      "name": "python3"
    },
    "language_info": {
      "codemirror_mode": {
        "name": "ipython",
        "version": 3
      },
      "file_extension": ".py",
      "mimetype": "text/x-python",
      "name": "python",
      "nbconvert_exporter": "python",
      "pygments_lexer": "ipython3",
      "version": "3.7.12"
    },
    "papermill": {
      "default_parameters": {},
      "duration": 13.098368,
      "end_time": "2022-02-14T12:08:56.516140",
      "environment_variables": {},
      "exception": null,
      "input_path": "__notebook__.ipynb",
      "output_path": "__notebook__.ipynb",
      "parameters": {},
      "start_time": "2022-02-14T12:08:43.417772",
      "version": "2.3.3"
    },
    "colab": {
      "name": "Introduction to Kaggle.ipynb",
      "provenance": [],
      "include_colab_link": true
    }
  },
  "nbformat": 4,
  "nbformat_minor": 5
}