{
  "nbformat": 4,
  "nbformat_minor": 0,
  "metadata": {
    "colab": {
      "name": "API.ipynb",
      "provenance": [],
      "collapsed_sections": [],
      "authorship_tag": "ABX9TyPAD4tuJMvoN/Eho7kTy5jl",
      "include_colab_link": true
    },
    "kernelspec": {
      "name": "python3",
      "display_name": "Python 3"
    },
    "language_info": {
      "name": "python"
    }
  },
  "cells": [
    {
      "cell_type": "markdown",
      "metadata": {
        "id": "view-in-github",
        "colab_type": "text"
      },
      "source": [
        "<a href=\"https://colab.research.google.com/github/AchmadFauziTrinanda/digitalskola_ds11/blob/master/API.ipynb\" target=\"_parent\"><img src=\"https://colab.research.google.com/assets/colab-badge.svg\" alt=\"Open In Colab\"/></a>"
      ]
    },
    {
      "cell_type": "markdown",
      "source": [
        "#**API**\n",
        "\n",
        "by : Achmad Fauzi Trinanda"
      ],
      "metadata": {
        "id": "KxnMvcl5lvJp"
      }
    },
    {
      "cell_type": "code",
      "source": [
        "produk = [\n",
        "    {'nama': 'bengbeng','harga': 2000,'lokasi penjual': 'bogor'},\n",
        "    {'nama': 'top','harga': 2500, 'lokasi penjual': 'depok'}, \n",
        "]\n",
        "\n",
        "cart = []\n",
        "totalPrice = 0\n",
        "\n",
        "def printMainMenu():\n",
        "  i = 1\n",
        "  for makanan in produk:\n",
        "    print(i,\". \" , makanan['harga'], \"   \",makanan['lokasi penjual'],\"   \",makanan['nama'])\n",
        "    i+=1\n",
        "\n",
        "def deleteItem(id):\n",
        "  global totalPrice\n",
        "  global cart\n",
        "  \n",
        "  totalPrice -= int(produk[id]['harga'])\n",
        "  cart.remove(produk[id]['nama'])\n",
        "\n",
        "def addItem(id):\n",
        "    global totalPrice\n",
        "    global cart\n",
        "    \n",
        "    totalPrice += int(produk[id]['harga'])\n",
        "    cart.append( produk[id]['nama'])\n",
        "\n",
        "def main():\n",
        "    print(\"Halo, Pilih makananannya ya!\")\n",
        "    printMainMenu()\n",
        "    \n",
        "    print(\"\\nSilahkan pilih angka pada menu: \")\n",
        "    makanan = input()\n",
        "    addItem(int(makanan)-1)\n",
        "    \n",
        "    print(\"Keranjang anda: \")\n",
        "    print(cart)\n",
        "    print(\"total harga: \")\n",
        "    print(totalPrice)\n",
        "    \n",
        "    print(\"Pilihan selanjutnya: \")\n",
        "    print(\"- Tekan 1 untuk tambah makanan\")\n",
        "    print(\"- Tekan 2 untuk mengurangi makanan\")\n",
        "    print(\"- Tekan 3 untuk bayar\")\n",
        "    pilihan = input()\n",
        "\n",
        "if __name__ == \"__main__\":\n",
        "    while True:\n",
        "        main()"
      ],
      "metadata": {
        "colab": {
          "base_uri": "https://localhost:8080/"
        },
        "id": "-GL1g4JmPYoi",
        "outputId": "b63a840f-e531-4b73-96bc-f7299f401024"
      },
      "execution_count": null,
      "outputs": [
        {
          "output_type": "stream",
          "name": "stdout",
          "text": [
            "Halo, Pilih makananannya ya!\n",
            "1 .  2000     bogor     bengbeng\n",
            "2 .  2500     depok     top\n",
            "\n",
            "Silahkan pilih angka pada menu: \n"
          ]
        }
      ]
    },
    {
      "cell_type": "code",
      "source": [
        ""
      ],
      "metadata": {
        "id": "TN5X6pJdQ-_n"
      },
      "execution_count": null,
      "outputs": []
    }
  ]
}